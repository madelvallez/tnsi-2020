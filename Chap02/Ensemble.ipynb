{
  "nbformat": 4,
  "nbformat_minor": 0,
  "metadata": {
    "colab": {
      "name": "02-Ensemble.ipynb",
      "provenance": [],
      "collapsed_sections": [],
      "authorship_tag": "ABX9TyMCfkXg5QrROZSqOOAzeL0b",
      "include_colab_link": true
    },
    "kernelspec": {
      "name": "python3",
      "display_name": "Python 3"
    }
  },
  "cells": [
    {
      "cell_type": "markdown",
      "metadata": {
        "id": "view-in-github",
        "colab_type": "text"
      },
      "source": [
        "<a href=\"https://colab.research.google.com/github/thfruchart/tnsi-2020/blob/master/Chap02/Ensemble.ipynb\" target=\"_parent\"><img src=\"https://colab.research.google.com/assets/colab-badge.svg\" alt=\"Open In Colab\"/></a>"
      ]
    },
    {
      "cell_type": "markdown",
      "metadata": {
        "id": "RgfCIxM97OIg",
        "colab_type": "text"
      },
      "source": [
        "# Liste ou dictionnaire ?\n"
      ]
    },
    {
      "cell_type": "markdown",
      "metadata": {
        "id": "LywZG7fe7RbM",
        "colab_type": "text"
      },
      "source": [
        "Dans le problème des anniversaire, le meilleur algorithme consiste à chercher les doublons en parcourant une fois le tableau, et en \"cochant\" les valeurs déjà rencontrées dans une **structure adaptée**.\n",
        "\n",
        "* soit une liste : \n",
        "  * mais cela suppose de connaître d'avance les valeurs extrêmes qui peuvent être contenues dans le tableau\n",
        "  * une telle liste occupe en mémoire plus de place que ce qui est souvent utile. \n",
        "\n",
        "* soit un dictionnaire :\n",
        "  * on peut stocker les valeurs du tableau au fur et à mesure, sans définir dès le départ la dimension de stockage.\n",
        "  * on pourrait chercher les doublons dans un tableau contenant des données de type `str` aussi bien que `int`.\n",
        "  * mais... seules les clés du dictionnaire sont vraiment utiles. Les valeurs stockées importent peu => on doit pouvoir encore économiser de la place avec une structure plus \"légère\".\n",
        "\n",
        "  Une telle structure correspond à ce qu'on appelle habituellement : **ensemble**. \n",
        "  \n",
        "La détection de doublon pourrait s'écrire : \n",
        "\n",
        "\n"
      ]
    },
    {
      "cell_type": "code",
      "metadata": {
        "id": "8YC4lJ6A3mzh",
        "colab_type": "code",
        "colab": {}
      },
      "source": [
        "def detecte_doublon_ensemble(t):\n",
        "    '''t est un tableau d'entiers compris entre 1 et 366\n",
        "\n",
        "    la fonction renvoie True si le tableau t contient deux fois la même valeur, \n",
        "    et False si t ne contient que des valeurs distinctes '''\n",
        "    s = cree_ensemble() #ensemble vide\n",
        "    # parcours du tableau \n",
        "    for v in t: \n",
        "        if appartient(v, s) : \n",
        "            return True\n",
        "        else :\n",
        "            ajoute(v, s)\n",
        "    return False"
      ],
      "execution_count": null,
      "outputs": []
    },
    {
      "cell_type": "markdown",
      "metadata": {
        "id": "y3VSubcJ-Q2a",
        "colab_type": "text"
      },
      "source": [
        "L'objectif de ce cours va être de créer cette structure \"ensemble\" uniquement à partir du type `list` de python.\n",
        "\n",
        "Cela permettra d'avoir une idée de la manière dont les dictionnaires sont implémentés. "
      ]
    },
    {
      "cell_type": "markdown",
      "metadata": {
        "id": "GFpPxSgt_2fU",
        "colab_type": "text"
      },
      "source": [
        "## Avec un tableau de booléens"
      ]
    },
    {
      "cell_type": "code",
      "metadata": {
        "id": "Wx7kEJvT-k10",
        "colab_type": "code",
        "colab": {}
      },
      "source": [
        "# première solution : tableau de booléens\n",
        "def cree_ensemble():\n",
        "    ''' crée un ensemble vide, pouvant contenir des entiers entre 0 et 366\n",
        "    implémenté sous la forme d'un tableau de booléens'''\n",
        "    return [False for i in range(367)]\n",
        "\n",
        "def appartient(v,s):\n",
        "    ''' teste si une valeur v (de 0 à 366) appartient à l'ensemble s'''\n",
        "    return s[v]\n",
        "\n",
        "def ajoute(v,s):\n",
        "    ''' ajoute la valeur v (de0 à 366) à l'ensemble s'''\n",
        "    s[v]=True\n",
        "\n",
        "\n",
        "def detecte_doublon_ensemble(t):\n",
        "    '''t est un tableau d'entiers compris entre 1 et 366\n",
        "\n",
        "    la fonction renvoie True si le tableau t contient deux fois la même valeur, \n",
        "    et False si t ne contient que des valeurs distinctes '''\n",
        "    s = cree_ensemble() #ensemble vide\n",
        "    # parcours du tableau \n",
        "    for v in t: \n",
        "        if appartient(v, s) : \n",
        "            return True\n",
        "        else :\n",
        "            ajoute(v, s)\n",
        "    return False\n"
      ],
      "execution_count": 1,
      "outputs": []
    },
    {
      "cell_type": "code",
      "metadata": {
        "id": "iSxa024R_i5g",
        "colab_type": "code",
        "colab": {
          "base_uri": "https://localhost:8080/",
          "height": 35
        },
        "outputId": "032aa589-a274-46f1-ab41-8b6a0cda3bc8"
      },
      "source": [
        "detecte_doublon_ensemble([0,1,2,3,4,5,1,0])"
      ],
      "execution_count": 2,
      "outputs": [
        {
          "output_type": "execute_result",
          "data": {
            "text/plain": [
              "True"
            ]
          },
          "metadata": {
            "tags": []
          },
          "execution_count": 2
        }
      ]
    },
    {
      "cell_type": "code",
      "metadata": {
        "colab_type": "code",
        "id": "xqvPJFqI_qFh",
        "colab": {
          "base_uri": "https://localhost:8080/",
          "height": 35
        },
        "outputId": "f0950485-38fd-4f2d-e867-466fb46aca41"
      },
      "source": [
        "detecte_doublon_ensemble([0,1,2,3,4,5,6])"
      ],
      "execution_count": 3,
      "outputs": [
        {
          "output_type": "execute_result",
          "data": {
            "text/plain": [
              "False"
            ]
          },
          "metadata": {
            "tags": []
          },
          "execution_count": 3
        }
      ]
    },
    {
      "cell_type": "markdown",
      "metadata": {
        "id": "jnRu7WQhACzX",
        "colab_type": "text"
      },
      "source": [
        "## avec un dictionnaire"
      ]
    },
    {
      "cell_type": "code",
      "metadata": {
        "id": "Bk1LOUaLAFnt",
        "colab_type": "code",
        "colab": {}
      },
      "source": [
        "# deuxième solution : dictionnaire\n",
        "def cree_ensemble():\n",
        "    ''' crée un ensemble vide, pouvant contenir des entiers ou des textes\n",
        "    implémenté sous la forme d'un dictionnaire de booléens'''\n",
        "    return {}\n",
        "\n",
        "def appartient(v,s):\n",
        "    ''' teste si une valeur v appartient à l'ensemble s'''\n",
        "    return v in s\n",
        "\n",
        "def ajoute(v,s):\n",
        "    ''' ajoute la valeur v à l'ensemble s'''\n",
        "    s[v]=True\n",
        "\n",
        "\n",
        "def detecte_doublon_ensemble(t):\n",
        "    '''t est un tableau d'entiers compris entre 1 et 366\n",
        "\n",
        "    la fonction renvoie True si le tableau t contient deux fois la même valeur, \n",
        "    et False si t ne contient que des valeurs distinctes '''\n",
        "    s = cree_ensemble() #ensemble vide\n",
        "    # parcours du tableau \n",
        "    for v in t: \n",
        "        if appartient(v, s) : \n",
        "            return True\n",
        "        else :\n",
        "            ajoute(v, s)\n",
        "    return False\n",
        "\n",
        "\n",
        "assert detecte_doublon_ensemble([0,1,2,3,4,5,1,0])==True\n",
        "assert detecte_doublon_ensemble([0,1,2,3,4,5,6]) == False"
      ],
      "execution_count": 4,
      "outputs": []
    },
    {
      "cell_type": "markdown",
      "metadata": {
        "id": "P0RWRW6dAufN",
        "colab_type": "text"
      },
      "source": [
        "# Nouvelle structure d'ensemble : liste de listes\n",
        "\n",
        "Chaque élément doit être stocké dans une liste, **de manière à pouvoir être trouvé très rapidement si on le cherche dans la liste**.\n",
        "* on pourrait envisager une liste triée, mais\n",
        "  * la recherche dans une liste triée s'effectue en O(log(n)) et non pas en temps constant\n",
        "  * pour insérer un nouvel élément, il y aurait un coût important\n",
        "    * pour trouver la place où l'insérer dans l'ensemble\n",
        "    * pour \"décaler\" les autres élements de l'ensemble\n",
        "\n",
        "\n",
        "* on va voir qu'une **liste de listes** est pertinente, si elle est bien construite."
      ]
    },
    {
      "cell_type": "code",
      "metadata": {
        "id": "YdiCbH8kCkvs",
        "colab_type": "code",
        "colab": {}
      },
      "source": [
        "# troisième solution : liste de listes\n",
        "def cree_ensemble():\n",
        "    ''' crée un ensemble vide, pouvant contenir des entiers \n",
        "    implémenté sous la forme d'une liste de listes'''\n",
        "    return [ [] for i in range(23) ]\n",
        "\n",
        "def appartient(v,s):\n",
        "    ''' teste si une valeur v appartient à l'ensemble s'''\n",
        "    indice = v%23\n",
        "    return v in s[indice]\n",
        "\n",
        "def ajoute(v,s):\n",
        "    ''' ajoute la valeur v à l'ensemble s'''\n",
        "    indice = v%23\n",
        "    if not appartient(v,s):\n",
        "        s[indice].append(v)\n",
        "\n",
        "\n",
        "def detecte_doublon_ensemble(t):\n",
        "    '''t est un tableau d'entiers compris entre 1 et 366\n",
        "\n",
        "    la fonction renvoie True si le tableau t contient deux fois la même valeur, \n",
        "    et False si t ne contient que des valeurs distinctes '''\n",
        "    s = cree_ensemble() #ensemble vide\n",
        "    # parcours du tableau \n",
        "    for v in t: \n",
        "        if appartient(v, s) : \n",
        "            return True\n",
        "        else :\n",
        "            ajoute(v, s)\n",
        "    return False\n",
        "\n",
        "\n",
        "assert detecte_doublon_ensemble([0,1,2,3,4,5,1,0])==True\n",
        "assert detecte_doublon_ensemble([0,1,2,3,4,5,6]) == False"
      ],
      "execution_count": 5,
      "outputs": []
    },
    {
      "cell_type": "code",
      "metadata": {
        "id": "pzq6A_YqdZBN",
        "colab_type": "code",
        "colab": {}
      },
      "source": [
        "s = cree_ensemble()\n",
        "ajoute(23,s)\n",
        "ajoute(365,s)\n",
        "ajoute(230,s)\n",
        "print(s)"
      ],
      "execution_count": null,
      "outputs": []
    },
    {
      "cell_type": "code",
      "metadata": {
        "id": "dOiep3MAekeX",
        "colab_type": "code",
        "colab": {}
      },
      "source": [
        "ajoute(60,s)\n",
        "ajoute(80,s)\n",
        "ajoute(89,s)\n",
        "print(s)"
      ],
      "execution_count": null,
      "outputs": []
    },
    {
      "cell_type": "code",
      "metadata": {
        "id": "1BLgsHlWe2b3",
        "colab_type": "code",
        "colab": {}
      },
      "source": [
        "appartient(50,s)"
      ],
      "execution_count": null,
      "outputs": []
    },
    {
      "cell_type": "code",
      "metadata": {
        "id": "TfS0Ldfpe63g",
        "colab_type": "code",
        "colab": {}
      },
      "source": [
        "ajoute(24,s)\n",
        "print(s)"
      ],
      "execution_count": null,
      "outputs": []
    },
    {
      "cell_type": "markdown",
      "metadata": {
        "id": "nSYGN5IguebU",
        "colab_type": "text"
      },
      "source": [
        "1. Choix du nombre total de listes : ici on a une liste de 23 listes. En effet, on s'attend à ce qu'un doublon soit probable si le nombre d'éléments dépasse 23. Si on utilise une liste de 23 listes pour tester des doublons, chacune de ces 23 listes ne devrait contenir qu'un petit nombre d'éléments.\n",
        "\n",
        "2. Chaque élément `v` est stocké dans l'une des 23 listes, selon la valeur de `v%23` : cela permet de \n",
        "  - choisir dans quelle liste stocker un élément avec la fonction `ajoute`\n",
        "  - chercher si cet élément est présent dans **une seule des 23 listes** avec la fonction `appartient`. Comme chacune de ces listes ne contient que peu d'éléments, cette recherche s'effectue pratiquement en temps constant\n",
        "\n",
        "3. Au niveau de l'occupation en mémoire, l'ensemble vide occupe certes un peu d'espace, mais beaucoup moins qu'avec une liste de 366 booléens ! Pour les ensembles non vices, la place occupée en mémoire augmente avec le nombre d'éléments. "
      ]
    },
    {
      "cell_type": "markdown",
      "metadata": {
        "id": "I1ty9GKz2JgW",
        "colab_type": "text"
      },
      "source": [
        "#Conclusion\n",
        "\n",
        "Il existe plusieurs manières de stocker l'information liée à la notion d'ensemble. Nous en avons détaillé trois :\n",
        "1. Tableau de booléens\n",
        "2. Dictionnaire\n",
        "3. Listes de listes\n",
        "\n",
        "On dit que ces trois types de données **implémentent** la structure \"ensemble\". \n",
        "Cette structure peut être caractérisée par son **interface**, c'est à dire ici, les spécifications de trois fonctions qui permettent\n",
        "* créer un ensemble vide\n",
        "* ajouter un élément à un ensemble\n",
        "* tester l'appartenance d'un élément à un ensemble. \n",
        "\n"
      ]
    }
  ]
}